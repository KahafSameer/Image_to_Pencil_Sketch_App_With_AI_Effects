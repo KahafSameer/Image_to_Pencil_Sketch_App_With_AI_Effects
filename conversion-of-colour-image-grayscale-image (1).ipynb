{
 "cells": [
  {
   "cell_type": "code",
   "execution_count": null,
   "metadata": {
    "_cell_guid": "b1076dfc-b9ad-4769-8c92-a6c4dae69d19",
    "_kg_hide-input": true,
    "_kg_hide-output": true,
    "_uuid": "8f2839f25d086af736a60e9eeb907d3b93b6e0e5",
    "execution": {
     "iopub.execute_input": "2022-01-23T04:47:15.477029Z",
     "iopub.status.busy": "2022-01-23T04:47:15.47636Z",
     "iopub.status.idle": "2022-01-23T04:47:15.49101Z",
     "shell.execute_reply": "2022-01-23T04:47:15.489893Z",
     "shell.execute_reply.started": "2022-01-23T04:47:15.476885Z"
    },
    "trusted": true
   },
   "outputs": [],
   "source": [
    "# This Python 3 environment comes with many helpful analytics libraries installed\n",
    "# It is defined by the kaggle/python Docker image: https://github.com/kaggle/docker-python\n",
    "# For example, here's several helpful packages to load\n",
    "\n",
    "import numpy as np # linear algebra\n",
    "import pandas as pd # data processing, CSV file I/O (e.g. pd.read_csv)\n",
    "\n",
    "# Input data files are available in the read-only \"../input/\" directory\n",
    "# For example, running this (by clicking run or pressing Shift+Enter) will list all files under the input directory\n",
    "\n",
    "import os\n",
    "for dirname, _, filenames in os.walk('/kaggle/input'):\n",
    "    for filename in filenames:\n",
    "        print(os.path.join(dirname, filename))\n",
    "\n",
    "# You can write up to 20GB to the current directory (/kaggle/working/) that gets preserved as output when you create a version using \"Save & Run All\" \n",
    "# You can also write temporary files to /kaggle/temp/, but they won't be saved outside of the current session"
   ]
  },
  {
   "cell_type": "markdown",
   "metadata": {},
   "source": [
    "**IMPORTING LIBRARIES**\n",
    "\n",
    "* **cv2** is the module import name for openCV-python.\n",
    "* OpenCV-Python is a library of Python bindings designed to solve computer vision problems\n",
    "\n"
   ]
  },
  {
   "cell_type": "code",
   "execution_count": null,
   "metadata": {
    "execution": {
     "iopub.execute_input": "2022-01-23T04:47:16.752453Z",
     "iopub.status.busy": "2022-01-23T04:47:16.751817Z",
     "iopub.status.idle": "2022-01-23T04:47:16.783888Z",
     "shell.execute_reply": "2022-01-23T04:47:16.783204Z",
     "shell.execute_reply.started": "2022-01-23T04:47:16.752412Z"
    },
    "trusted": true
   },
   "outputs": [],
   "source": [
    "import cv2\n",
    "import matplotlib.pyplot as plt"
   ]
  },
  {
   "cell_type": "markdown",
   "metadata": {},
   "source": [
    "**LOAD THE DATA**\n",
    "\n",
    "* **cv2. imread()** method loads an image from the specified & the required file.\n",
    "* The imshow() function in pyplot module of matplotlib library is used to display data as an image"
   ]
  },
  {
   "cell_type": "code",
   "execution_count": null,
   "metadata": {
    "execution": {
     "iopub.execute_input": "2022-01-23T04:47:17.752115Z",
     "iopub.status.busy": "2022-01-23T04:47:17.751304Z",
     "iopub.status.idle": "2022-01-23T04:47:17.912036Z",
     "shell.execute_reply": "2022-01-23T04:47:17.911128Z",
     "shell.execute_reply.started": "2022-01-23T04:47:17.752064Z"
    },
    "trusted": true
   },
   "outputs": [],
   "source": [
    "image = cv2.imread('/kaggle/input/input-image-for-image-to-pencil-sketch/input_image.png')\n",
    "plt.imshow(cv2.cvtColor(image, cv2.COLOR_BGR2RGB))\n",
    "plt.axis('off')\n",
    "plt.show()"
   ]
  },
  {
   "cell_type": "markdown",
   "metadata": {},
   "source": [
    "**CONVERSION OF COLOUR IMAGE TO GRAYSCALE IMAGE**\n",
    "\n",
    "* Various color spaces such as RGB, BGR, HSV can be mutually converted using OpenCV function cvtColor().\n",
    "* cv2.COLOR_BGR2RGB means BGR is converted to RGB.\n"
   ]
  },
  {
   "cell_type": "code",
   "execution_count": null,
   "metadata": {
    "execution": {
     "iopub.execute_input": "2022-01-23T04:47:18.779046Z",
     "iopub.status.busy": "2022-01-23T04:47:18.778181Z",
     "iopub.status.idle": "2022-01-23T04:47:19.046766Z",
     "shell.execute_reply": "2022-01-23T04:47:19.045857Z",
     "shell.execute_reply.started": "2022-01-23T04:47:18.778993Z"
    },
    "trusted": true
   },
   "outputs": [],
   "source": [
    "gray_image = cv2.cvtColor(image, cv2.COLOR_BGR2GRAY)\n",
    "plt.imshow(cv2.cvtColor(gray_image, cv2.COLOR_BGR2RGB))\n",
    "plt.axis('off')\n",
    "plt.show()"
   ]
  },
  {
   "cell_type": "code",
   "execution_count": null,
   "metadata": {
    "execution": {
     "iopub.execute_input": "2022-01-23T04:47:19.26965Z",
     "iopub.status.busy": "2022-01-23T04:47:19.268822Z",
     "iopub.status.idle": "2022-01-23T04:47:19.43913Z",
     "shell.execute_reply": "2022-01-23T04:47:19.438243Z",
     "shell.execute_reply.started": "2022-01-23T04:47:19.26961Z"
    },
    "trusted": true
   },
   "outputs": [],
   "source": [
    "#Inversion of the image\n",
    "inv_image = 255 - gray_image\n",
    "plt.imshow(cv2.cvtColor(inv_image, cv2.COLOR_BGR2RGB))\n",
    "plt.axis('off')\n",
    "plt.show()"
   ]
  },
  {
   "cell_type": "markdown",
   "metadata": {},
   "source": [
    "**cv2 GaussianBlur() function :**\n",
    "\n",
    "* OpenCV provides cv2.gaussianblur() function to apply Gaussian Smoothing on the image."
   ]
  },
  {
   "cell_type": "code",
   "execution_count": null,
   "metadata": {
    "execution": {
     "iopub.execute_input": "2022-01-23T04:47:20.321325Z",
     "iopub.status.busy": "2022-01-23T04:47:20.32069Z",
     "iopub.status.idle": "2022-01-23T04:47:20.492526Z",
     "shell.execute_reply": "2022-01-23T04:47:20.491645Z",
     "shell.execute_reply.started": "2022-01-23T04:47:20.321287Z"
    },
    "trusted": true
   },
   "outputs": [],
   "source": [
    "#Blur the image \n",
    "blurred = cv2.GaussianBlur(inv_image, (21,21), 0)\n",
    "\n",
    "#Invert the blurred image\n",
    "inv_blur = 255 - blurred\n",
    "final_image = cv2.divide(gray_image, inv_blur, scale=256.0)\n",
    "plt.imshow(cv2.cvtColor(final_image, cv2.COLOR_BGR2RGB))\n",
    "plt.axis('off')\n",
    "plt.show()"
   ]
  },
  {
   "cell_type": "markdown",
   "metadata": {},
   "source": [
    "**CONCLUSION :**"
   ]
  },
  {
   "cell_type": "code",
   "execution_count": null,
   "metadata": {
    "execution": {
     "iopub.execute_input": "2022-01-23T04:47:20.895088Z",
     "iopub.status.busy": "2022-01-23T04:47:20.894831Z",
     "iopub.status.idle": "2022-01-23T04:47:20.901178Z",
     "shell.execute_reply": "2022-01-23T04:47:20.90012Z",
     "shell.execute_reply.started": "2022-01-23T04:47:20.89506Z"
    },
    "trusted": true
   },
   "outputs": [],
   "source": [
    "print(\"Thus we have successfully completed the conversion✍of colour image➡grayscale image📸👁‍🎨\")"
   ]
  },
  {
   "cell_type": "code",
   "execution_count": null,
   "metadata": {},
   "outputs": [],
   "source": []
  }
 ],
 "metadata": {
  "kaggle": {
   "accelerator": "none",
   "dataSources": [
    {
     "datasetId": 1732846,
     "sourceId": 2832716,
     "sourceType": "datasetVersion"
    }
   ],
   "dockerImageVersionId": 30154,
   "isGpuEnabled": false,
   "isInternetEnabled": false,
   "language": "python",
   "sourceType": "notebook"
  },
  "kernelspec": {
   "display_name": ".venv",
   "language": "python",
   "name": "python3"
  },
  "language_info": {
   "codemirror_mode": {
    "name": "ipython",
    "version": 3
   },
   "file_extension": ".py",
   "mimetype": "text/x-python",
   "name": "python",
   "nbconvert_exporter": "python",
   "pygments_lexer": "ipython3",
   "version": "3.11.9"
  }
 },
 "nbformat": 4,
 "nbformat_minor": 4
}
